{
  "cells": [
    {
      "cell_type": "markdown",
      "metadata": {
        "id": "view-in-github",
        "colab_type": "text"
      },
      "source": [
        "<a href=\"https://colab.research.google.com/github/canito91/MBGDS_JC/blob/main/M6_AI1_CANOJORGE.ipynb\" target=\"_parent\"><img src=\"https://colab.research.google.com/assets/colab-badge.svg\" alt=\"Open In Colab\"/></a>"
      ]
    },
    {
      "cell_type": "code",
      "execution_count": null,
      "metadata": {
        "id": "zwFnJsE6vjf8"
      },
      "outputs": [],
      "source": [
        "Descripción de la tarea\n",
        "Contexto\n",
        "IMDb (acrónimo de Internet Movie Database) es una base de datos on-line de información relacionada con películas, programas de televisión, videos caseros, videojuegos y contenido de transmisión en línea - incluidos los actores, el equipo de producción y biografías personales, resúmenes de tramas, trivia, calificaciones y reseñas de fans y críticas. Originalmente, fue un sitio web operado por fanáticos, la base de datos ahora es propiedad y está operada por IMDb.com, Inc., una subsidiaria de Amazon.\n",
        "\n",
        "A diciembre de 2020, IMDb tenía, aproximadamente, 7,5 millones de títulos (incluidos episodios) y 10,4 millones de personalidades en su base de datos, así como 83 millones de usuarios registrados.\n",
        "El dataset original es mucho mayor, pero ha sido reducido para eliminar procesos de limpieza de datos.\n",
        "\n",
        "Descripción de las variables:\n",
        "\n",
        "Imdb_title_id: id único de cada película.\n",
        "Original_title: título original de la película.\n",
        "Year: año.\n",
        "Genre: género.\n",
        "Duration: duración en minutos.\n",
        "Country: país.\n",
        "Director: director.\n",
        "Actors: actor principal.\n",
        "Avg_votes: media de los votos de los usuarios.\n",
        "Avg_vote_weighted: media ponderada de la media de los votos con su número.\n",
        "Votes: número de votos de los usuarios.\n",
        "Budget: presupuesto destinado a su producción.\n",
        "Worldwide_gross_income: ingresos generados en todo el mundo.\n",
        "Reviews_from_users: número de opiniones de usuarios.\n",
        "Reviews_from_critics: número de opiniones de críticos.\n",
        "Se pide:\n",
        "Aplicar el algoritmo de ÁRBOLES de DECISIÓN para la estimación de la recaudación de una película, dadas las variables: genre, duration, country, director, actors y Budget.\n",
        "Aplicar el algoritmo de ÁRBOLES de DECISIÓN para la estimación de la media ponderada de los votos en IMDB (avg_vote_weighted) atendiendo a las variables: genre, duration, country, director, actors, budget, worldwide_gross_income, reviews_from_users y reviews_from_critics.\n",
        "Consideraciones\n",
        "Se deben realizar dos tipos de preprocesado:\n",
        "Convertir todas las variables categóricas en numéricas.\n",
        "Tanto “budget” como “worldwide_gross_income” están en formato string. Hay que eliminar el símbolo de dólar para convertir a entero.\n",
        "Con todos estos datos se pide lo siguiente:\n",
        "Preprocesado de conversión de tipos de datos (comentado arriba).\n",
        "Generación de los dos modelos que se piden.\n",
        "Comentarios sobre la elección de los parámetros de los modelos finales.\n",
        "Comentarios sobre los resultados.\n",
        "Estimación de la recaudación de dos películas con los valores que queráis; eligiendo país, género, director, etc., a vuestro gusto.\n",
        "Estimación del rating de dos películas con los valores que queráis; eligiendo país, género, director, etc., a vuestro gusto."
      ]
    }
  ],
  "metadata": {
    "colab": {
      "name": "Te damos la bienvenida a Colaboratory",
      "toc_visible": true,
      "provenance": [],
      "include_colab_link": true
    },
    "kernelspec": {
      "display_name": "Python 3",
      "name": "python3"
    }
  },
  "nbformat": 4,
  "nbformat_minor": 0
}